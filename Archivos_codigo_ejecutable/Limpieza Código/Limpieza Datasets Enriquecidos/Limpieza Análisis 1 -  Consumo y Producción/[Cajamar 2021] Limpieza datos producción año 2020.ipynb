{
 "cells": [
  {
   "cell_type": "markdown",
   "metadata": {},
   "source": [
    "Los datos se han obtenido de la fuente que se indica a continuación donde se incluyen las estimaciones correspondientes a las superficies y producciones anuales para cada cultivo."
   ]
  },
  {
   "cell_type": "markdown",
   "metadata": {},
   "source": [
    "Fuente : https://www.mapa.gob.es/es/estadistica/temas/estadisticas-agrarias/agricultura/avances-superficies-producciones-agricolas/"
   ]
  },
  {
   "cell_type": "code",
   "execution_count": 1,
   "metadata": {},
   "outputs": [],
   "source": [
    "# Importar las librerías\n",
    "import pandas as pd\n",
    "import numpy as np\n",
    "pd.options.mode.chained_assignment = None  "
   ]
  },
  {
   "cell_type": "markdown",
   "metadata": {},
   "source": [
    "## ENERO 2020"
   ]
  },
  {
   "cell_type": "code",
   "execution_count": 2,
   "metadata": {},
   "outputs": [],
   "source": [
    "enero_2020 = pd.read_csv(\"enero2020.csv\")"
   ]
  },
  {
   "cell_type": "code",
   "execution_count": 3,
   "metadata": {},
   "outputs": [],
   "source": [
    "# Borrar la cabecera y el final del csv\n",
    "enero_2020.drop(enero_2020.index[77:], inplace = True)\n",
    "enero_2020.drop(enero_2020.index[0:2], inplace = True)\n",
    "enero_2020.drop(enero_2020.index[3:5],inplace =True)"
   ]
  },
  {
   "cell_type": "code",
   "execution_count": 4,
   "metadata": {},
   "outputs": [],
   "source": [
    "# Borrar columnas vacías\n",
    "enero_2020.drop(columns= ['Unnamed: 1','Unnamed: 2','Unnamed: 8','Unnamed: 15','Unnamed: 16','Unnamed: 28','Unnamed: 29'],inplace=True)"
   ]
  },
  {
   "cell_type": "code",
   "execution_count": 5,
   "metadata": {},
   "outputs": [],
   "source": [
    "# Se separa el csv en producción por hectáreas y por miles de toneladas\n",
    "enero_2020_hectareas = enero_2020.iloc[:,0:6]\n",
    "enero_2020_hectareas.drop(enero_2020_hectareas.index[0:3],inplace = True)\n",
    "enero_2020_toneladas = enero_2020.iloc[:,[0,6,7,8,9,10]]\n",
    "enero_2020_toneladas.drop(enero_2020_toneladas.index[0:3],inplace = True)"
   ]
  },
  {
   "cell_type": "code",
   "execution_count": 6,
   "metadata": {},
   "outputs": [],
   "source": [
    "# Se cambia el nombre a las columnas del dataset\n",
    "enero_2020_hectareas.rename(columns = {'Unnamed: 0': 'Cultivos', 'Unnamed: 3': 'Mes', 'Unnamed: 4': 'Definitivo (2018)', 'Unnamed: 5':'Provisional(2019)','Unnamed: 6':'Avance(2020)','Unnamed: 7': 'Porcentaje % respecto 2019'},inplace=True)\n",
    "enero_2020_toneladas.rename(columns = {'Unnamed: 0': 'Cultivos', 'Unnamed: 9': 'Mes', 'Unnamed: 10': 'Definitivo (2018)', 'Unnamed: 11':'Provisional(2019)','Unnamed: 12':'Avance(2020)','Unnamed: 13': 'Porcentaje % respecto 2019'},inplace = True)"
   ]
  },
  {
   "cell_type": "code",
   "execution_count": 7,
   "metadata": {
    "scrolled": true
   },
   "outputs": [],
   "source": [
    "# Se repite el mismo proceso con la otra mitad del dataset\n",
    "df_hectareas_2020 = enero_2020.iloc[:,11:17]\n",
    "df_toneladas_2020 = enero_2020.iloc[:,[11,18,19,20,21,22]]\n",
    "df_toneladas_2020.rename(columns = {'Unnamed: 14': 'Cultivos', 'Unnamed: 23': 'Mes', 'Unnamed: 24': 'Definitivo (2018)', 'Unnamed: 25':'Provisional(2019)','Unnamed: 26':'Avance(2020)','Unnamed: 27': 'Porcentaje % respecto 2019'},inplace=True)\n",
    "df_hectareas_2020.rename(columns = {'Unnamed: 14': 'Cultivos', 'Unnamed: 17': 'Mes', 'Unnamed: 18': 'Definitivo (2018)', 'Unnamed: 19':'Provisional(2019)','Unnamed: 20':'Avance(2020)','Unnamed: 21': 'Porcentaje % respecto 2019'},inplace=True)"
   ]
  },
  {
   "cell_type": "code",
   "execution_count": 8,
   "metadata": {},
   "outputs": [],
   "source": [
    "# Se unen las dos mitades para generar el dataset final de producción\n",
    "enero_2020_toneladas = pd.concat([enero_2020_toneladas, df_toneladas_2020], axis = 0)\n",
    "enero_2020_hectareas = pd.concat([enero_2020_hectareas, df_hectareas_2020],axis = 0)"
   ]
  },
  {
   "cell_type": "code",
   "execution_count": 9,
   "metadata": {},
   "outputs": [],
   "source": [
    "enero_2020_toneladas.reset_index(inplace=True)\n",
    "enero_2020_toneladas.drop(columns = ['index'], inplace =True)\n",
    "enero_2020_toneladas.drop(enero_2020_toneladas.index[132:143],inplace=True)\n",
    "enero_2020_toneladas.dropna(subset = ['Cultivos'],inplace=True)\n",
    "enero_2020_toneladas = enero_2020_toneladas[enero_2020_toneladas['Cultivos'].str[0].str.islower()]"
   ]
  },
  {
   "cell_type": "markdown",
   "metadata": {},
   "source": [
    "## FEBRERO 2020"
   ]
  },
  {
   "cell_type": "code",
   "execution_count": 11,
   "metadata": {},
   "outputs": [],
   "source": [
    "febrero_2020 = pd.read_csv(\"febrero2020.csv\")"
   ]
  },
  {
   "cell_type": "code",
   "execution_count": 12,
   "metadata": {},
   "outputs": [],
   "source": [
    "# Borrar la cabecera y el final del csv\n",
    "febrero_2020.drop(febrero_2020.index[77:], inplace = True)\n",
    "febrero_2020.drop(febrero_2020.index[0:2], inplace = True)\n",
    "febrero_2020.drop(febrero_2020.index[3:5],inplace =True)"
   ]
  },
  {
   "cell_type": "code",
   "execution_count": 13,
   "metadata": {},
   "outputs": [],
   "source": [
    "# Borrar columnas vacías\n",
    "febrero_2020.drop(columns= ['Unnamed: 1','Unnamed: 2','Unnamed: 8','Unnamed: 15','Unnamed: 16','Unnamed: 28','Unnamed: 29'],inplace=True)"
   ]
  },
  {
   "cell_type": "code",
   "execution_count": 14,
   "metadata": {},
   "outputs": [],
   "source": [
    "# Se separa el csv en producción por hectáreas y por miles de toneladas\n",
    "febrero_2020_hectareas = febrero_2020.iloc[:,0:5]\n",
    "febrero_2020_hectareas.drop(febrero_2020_hectareas.index[0:3],inplace = True)\n",
    "febrero_2020_toneladas = febrero_2020.iloc[:,[0,6,7,8,9,10]]\n",
    "febrero_2020_toneladas.drop(febrero_2020_toneladas.index[0:3],inplace = True)"
   ]
  },
  {
   "cell_type": "code",
   "execution_count": 15,
   "metadata": {},
   "outputs": [],
   "source": [
    "# Se cambia el nombre a las columnas del dataset\n",
    "febrero_2020_hectareas.rename(columns = {'Unnamed: 0': 'Cultivos', 'Unnamed: 3': 'Mes', 'Unnamed: 4': 'Definitivo (2018)', 'Unnamed: 5':'Provisional(2019)','Unnamed: 6':'Avance(2020)','Unnamed: 7': 'Porcentaje % respecto 2019'},inplace=True)\n",
    "febrero_2020_toneladas.rename(columns = {'Unnamed: 0': 'Cultivos', 'Unnamed: 9': 'Mes', 'Unnamed: 10': 'Definitivo (2018)', 'Unnamed: 11':'Provisional(2019)','Unnamed: 12':'Avance(2020)','Unnamed: 13': 'Porcentaje % respecto 2019'},inplace = True)"
   ]
  },
  {
   "cell_type": "code",
   "execution_count": 16,
   "metadata": {},
   "outputs": [],
   "source": [
    "# Se repite el mismo proceso con la otra mitad del dataset\n",
    "df_hectareas_f2020 = febrero_2020.iloc[:,11:17]\n",
    "df_toneladas_f2020 = febrero_2020.iloc[:,[11,18,19,20,21,22]]\n",
    "df_toneladas_f2020.rename(columns = {'Unnamed: 14': 'Cultivos', 'Unnamed: 23': 'Mes', 'Unnamed: 24': 'Definitivo (2018)', 'Unnamed: 25':'Provisional(2019)','Unnamed: 26':'Avance(2020)','Unnamed: 27': 'Porcentaje % respecto 2019'},inplace=True)\n",
    "df_hectareas_f2020.rename(columns = {'Unnamed: 14': 'Cultivos', 'Unnamed: 17': 'Mes', 'Unnamed: 18': 'Definitivo (2018)', 'Unnamed: 19':'Provisional(2019)','Unnamed: 20':'Avance(2020)','Unnamed: 21': 'Porcentaje % respecto 2019'},inplace=True)"
   ]
  },
  {
   "cell_type": "code",
   "execution_count": 17,
   "metadata": {},
   "outputs": [],
   "source": [
    "# Se unen las dos mitades para generar el dataset final de producción\n",
    "febrero_2020_toneladas = pd.concat([febrero_2020_toneladas, df_toneladas_f2020], axis = 0)\n",
    "febrero_2020_hectareas = pd.concat([febrero_2020_hectareas, df_hectareas_f2020],axis = 0)"
   ]
  },
  {
   "cell_type": "code",
   "execution_count": 18,
   "metadata": {},
   "outputs": [],
   "source": [
    "febrero_2020_toneladas.reset_index(inplace=True)\n",
    "febrero_2020_toneladas.drop(columns = ['index'], inplace =True)\n",
    "febrero_2020_toneladas.drop(febrero_2020_toneladas.index[132:143],inplace=True)\n",
    "febrero_2020_toneladas.dropna(subset = ['Cultivos'],inplace=True)\n",
    "febrero_2020_toneladas = febrero_2020_toneladas[febrero_2020_toneladas['Cultivos'].str[0].str.islower()]"
   ]
  },
  {
   "cell_type": "markdown",
   "metadata": {},
   "source": [
    "## MARZO 2020"
   ]
  },
  {
   "cell_type": "code",
   "execution_count": 19,
   "metadata": {},
   "outputs": [],
   "source": [
    "marzo_2020 = pd.read_csv(\"marzo2020.csv\")"
   ]
  },
  {
   "cell_type": "code",
   "execution_count": 20,
   "metadata": {},
   "outputs": [],
   "source": [
    "# Borrar la cabecera y el final del csv\n",
    "marzo_2020.drop(marzo_2020.index[77:], inplace = True)\n",
    "marzo_2020.drop(marzo_2020.index[0:2], inplace = True)\n",
    "marzo_2020.drop(marzo_2020.index[3:5],inplace =True)"
   ]
  },
  {
   "cell_type": "code",
   "execution_count": 21,
   "metadata": {},
   "outputs": [],
   "source": [
    "# Borrar columnas vacías\n",
    "marzo_2020.drop(columns= ['Unnamed: 1','Unnamed: 2','Unnamed: 8','Unnamed: 15','Unnamed: 16','Unnamed: 28'],inplace=True)"
   ]
  },
  {
   "cell_type": "code",
   "execution_count": 22,
   "metadata": {},
   "outputs": [],
   "source": [
    "# Se separa el csv en producción por hectáreas y por miles de toneladas\n",
    "marzo_2020_hectareas = marzo_2020.iloc[:,0:6]\n",
    "marzo_2020_hectareas.drop(marzo_2020_hectareas.index[0:3],inplace = True)\n",
    "marzo_2020_toneladas = marzo_2020.iloc[:,[0,6,7,8,9,10]]\n",
    "marzo_2020_toneladas.drop(marzo_2020_toneladas.index[0:3],inplace = True)"
   ]
  },
  {
   "cell_type": "code",
   "execution_count": 23,
   "metadata": {},
   "outputs": [],
   "source": [
    "# Se cambia el nombre a las columnas del dataset\n",
    "marzo_2020_hectareas.rename(columns = {'Unnamed: 0': 'Cultivos', 'Unnamed: 3': 'Mes', 'Unnamed: 4': 'Definitivo (2018)', 'Unnamed: 5':'Provisional(2019)','Unnamed: 6':'Avance(2020)','Unnamed: 7': 'Porcentaje % respecto 2019'},inplace=True)\n",
    "marzo_2020_toneladas.rename(columns = {'Unnamed: 0': 'Cultivos', 'Unnamed: 9': 'Mes', 'Unnamed: 10': 'Definitivo (2018)', 'Unnamed: 11':'Provisional(2019)','Unnamed: 12':'Avance(2020)','Unnamed: 13': 'Porcentaje % respecto 2019'},inplace = True)"
   ]
  },
  {
   "cell_type": "code",
   "execution_count": 24,
   "metadata": {},
   "outputs": [],
   "source": [
    "# Se repite el mismo proceso con la otra mitad del dataset\n",
    "df_hectareas_m2020 = marzo_2020.iloc[:,11:17]\n",
    "df_toneladas_m2020 = marzo_2020.iloc[:,[11,18,19,20,21,22]]\n",
    "df_toneladas_m2020.rename(columns = {'Unnamed: 14': 'Cultivos', 'Unnamed: 23': 'Mes', 'Unnamed: 24': 'Definitivo (2018)', 'Unnamed: 25':'Provisional(2019)','Unnamed: 26':'Avance(2020)','Unnamed: 27': 'Porcentaje % respecto 2019'},inplace=True)\n",
    "df_hectareas_m2020.rename(columns = {'Unnamed: 14': 'Cultivos', 'Unnamed: 17': 'Mes', 'Unnamed: 18': 'Definitivo (2018)', 'Unnamed: 19':'Provisional(2019)','Unnamed: 20':'Avance(2020)','Unnamed: 21': 'Porcentaje % respecto 2019'},inplace=True)"
   ]
  },
  {
   "cell_type": "code",
   "execution_count": 25,
   "metadata": {},
   "outputs": [],
   "source": [
    "# Se unen las dos mitades para generar el dataset final de producción\n",
    "marzo_2020_toneladas = pd.concat([marzo_2020_toneladas, df_toneladas_m2020], axis = 0)\n",
    "marzo_2020_hectareas = pd.concat([marzo_2020_hectareas, df_hectareas_m2020],axis = 0)"
   ]
  },
  {
   "cell_type": "code",
   "execution_count": 26,
   "metadata": {},
   "outputs": [],
   "source": [
    "marzo_2020_toneladas.reset_index(inplace=True)\n",
    "marzo_2020_toneladas.drop(columns = ['index'], inplace =True)\n",
    "marzo_2020_toneladas.drop(marzo_2020_toneladas.index[132:143],inplace=True)\n",
    "marzo_2020_toneladas.dropna(subset = ['Cultivos'],inplace=True)\n",
    "marzo_2020_toneladas = marzo_2020_toneladas[marzo_2020_toneladas['Cultivos'].str[0].str.islower()]"
   ]
  },
  {
   "cell_type": "markdown",
   "metadata": {},
   "source": [
    "## ABRIL 2020"
   ]
  },
  {
   "cell_type": "code",
   "execution_count": 27,
   "metadata": {},
   "outputs": [],
   "source": [
    "abril_2020 = pd.read_csv(\"abril2020.csv\")"
   ]
  },
  {
   "cell_type": "code",
   "execution_count": 28,
   "metadata": {},
   "outputs": [],
   "source": [
    "# Borrar la cabecera y el final del csv\n",
    "abril_2020.drop(abril_2020.index[77:], inplace = True)\n",
    "abril_2020.drop(abril_2020.index[0:2], inplace = True)\n",
    "abril_2020.drop(abril_2020.index[3:5],inplace =True)"
   ]
  },
  {
   "cell_type": "code",
   "execution_count": 29,
   "metadata": {},
   "outputs": [],
   "source": [
    "# Borrar columnas vacías\n",
    "abril_2020.drop(columns= ['Unnamed: 1','Unnamed: 2','Unnamed: 8','Unnamed: 15','Unnamed: 16','Unnamed: 28','Unnamed: 29'],inplace=True)"
   ]
  },
  {
   "cell_type": "code",
   "execution_count": 30,
   "metadata": {},
   "outputs": [],
   "source": [
    "# Se separa el csv en producción por hectáreas y por miles de toneladas\n",
    "abril_2020_hectareas = abril_2020.iloc[:,0:6]\n",
    "abril_2020_hectareas.drop(abril_2020_hectareas.index[0:3],inplace = True)\n",
    "abril_2020_toneladas = abril_2020.iloc[:,[0,6,7,8,9,10]]\n",
    "abril_2020_toneladas.drop(abril_2020_toneladas.index[0:3],inplace = True)"
   ]
  },
  {
   "cell_type": "code",
   "execution_count": 31,
   "metadata": {},
   "outputs": [],
   "source": [
    "# Se cambia el nombre a las columnas del dataset\n",
    "abril_2020_hectareas.rename(columns = {'Unnamed: 0': 'Cultivos', 'Unnamed: 3': 'Mes', 'Unnamed: 4': 'Definitivo (2018)', 'Unnamed: 5':'Provisional(2019)','Unnamed: 6':'Avance(2020)','Unnamed: 7': 'Porcentaje % respecto 2019'},inplace=True)\n",
    "abril_2020_toneladas.rename(columns = {'Unnamed: 0': 'Cultivos', 'Unnamed: 9': 'Mes', 'Unnamed: 10': 'Definitivo (2018)', 'Unnamed: 11':'Provisional(2019)','Unnamed: 12':'Avance(2020)','Unnamed: 13': 'Porcentaje % respecto 2019'},inplace = True)"
   ]
  },
  {
   "cell_type": "code",
   "execution_count": 32,
   "metadata": {},
   "outputs": [],
   "source": [
    "# Se repite el mismo proceso con la otra mitad del dataset\n",
    "df_hectareas_a2020 = abril_2020.iloc[:,11:17]\n",
    "df_toneladas_a2020 = abril_2020.iloc[:,[11,18,19,20,21,22]]\n",
    "df_toneladas_a2020.rename(columns = {'Unnamed: 14': 'Cultivos', 'Unnamed: 23': 'Mes', 'Unnamed: 24': 'Definitivo (2018)', 'Unnamed: 25':'Provisional(2019)','Unnamed: 26':'Avance(2020)','Unnamed: 27': 'Porcentaje % respecto 2019'},inplace=True)\n",
    "df_hectareas_a2020.rename(columns = {'Unnamed: 14': 'Cultivos', 'Unnamed: 17': 'Mes', 'Unnamed: 18': 'Definitivo (2018)', 'Unnamed: 19':'Provisional(2019)','Unnamed: 20':'Avance(2020)','Unnamed: 21': 'Porcentaje % respecto 2019'},inplace=True)"
   ]
  },
  {
   "cell_type": "code",
   "execution_count": 33,
   "metadata": {},
   "outputs": [],
   "source": [
    "# Se unen las dos mitades para generar el dataset final de producción\n",
    "abril_2020_toneladas = pd.concat([abril_2020_toneladas, df_toneladas_m2020], axis = 0)\n",
    "abril_2020_hectareas = pd.concat([abril_2020_hectareas, df_hectareas_m2020],axis = 0)"
   ]
  },
  {
   "cell_type": "code",
   "execution_count": 34,
   "metadata": {},
   "outputs": [],
   "source": [
    "abril_2020_toneladas.reset_index(inplace=True)\n",
    "abril_2020_toneladas.drop(columns = ['index'], inplace =True)\n",
    "abril_2020_toneladas.drop(abril_2020_toneladas.index[132:143],inplace=True)\n",
    "abril_2020_toneladas.dropna(subset = ['Cultivos'],inplace=True)\n",
    "abril_2020_toneladas = abril_2020_toneladas[abril_2020_toneladas['Cultivos'].str[0].str.islower()]"
   ]
  },
  {
   "cell_type": "markdown",
   "metadata": {},
   "source": [
    "## MAYO 2020"
   ]
  },
  {
   "cell_type": "code",
   "execution_count": 36,
   "metadata": {},
   "outputs": [],
   "source": [
    "mayo_2020 = pd.read_csv(\"mayo2020.csv\")"
   ]
  },
  {
   "cell_type": "code",
   "execution_count": 37,
   "metadata": {},
   "outputs": [],
   "source": [
    "# Borrar la cabecera y el final del csv\n",
    "mayo_2020.drop(mayo_2020.index[77:], inplace = True)\n",
    "mayo_2020.drop(mayo_2020.index[0:2], inplace = True)\n",
    "mayo_2020.drop(mayo_2020.index[3:5],inplace =True)"
   ]
  },
  {
   "cell_type": "code",
   "execution_count": 38,
   "metadata": {},
   "outputs": [],
   "source": [
    "# Borrar columnas vacías\n",
    "mayo_2020.drop(columns= ['Unnamed: 1','Unnamed: 2','Unnamed: 8','Unnamed: 15','Unnamed: 16','Unnamed: 28','Unnamed: 29'],inplace=True)"
   ]
  },
  {
   "cell_type": "code",
   "execution_count": 39,
   "metadata": {},
   "outputs": [],
   "source": [
    "# Se separa el csv en producción por hectáreas y por miles de toneladas\n",
    "mayo_2020_hectareas = mayo_2020.iloc[:,0:6]\n",
    "mayo_2020_hectareas.drop(mayo_2020_hectareas.index[0:3],inplace = True)\n",
    "mayo_2020_toneladas = mayo_2020.iloc[:,[0,6,7,8,9,10]]\n",
    "mayo_2020_toneladas.drop(mayo_2020_toneladas.index[0:3],inplace = True)"
   ]
  },
  {
   "cell_type": "code",
   "execution_count": 40,
   "metadata": {},
   "outputs": [],
   "source": [
    "# Se cambia el nombre a las columnas del dataset\n",
    "mayo_2020_hectareas.rename(columns = {'Unnamed: 0': 'Cultivos', 'Unnamed: 3': 'Mes', 'Unnamed: 4': 'Definitivo (2018)', 'Unnamed: 5':'Provisional(2019)','Unnamed: 6':'Avance(2020)','Unnamed: 7': 'Porcentaje % respecto 2019'},inplace=True)\n",
    "mayo_2020_toneladas.rename(columns = {'Unnamed: 0': 'Cultivos', 'Unnamed: 9': 'Mes', 'Unnamed: 10': 'Definitivo (2018)', 'Unnamed: 11':'Provisional(2019)','Unnamed: 12':'Avance(2020)','Unnamed: 13': 'Porcentaje % respecto 2019'},inplace = True)"
   ]
  },
  {
   "cell_type": "code",
   "execution_count": 41,
   "metadata": {},
   "outputs": [],
   "source": [
    "# Se repite el mismo proceso con la otra mitad del dataset\n",
    "df_hectareas_m2020 = mayo_2020.iloc[:,11:17]\n",
    "df_toneladas_m2020 = mayo_2020.iloc[:,[11,18,19,20,21,22]]\n",
    "df_toneladas_m2020.rename(columns = {'Unnamed: 14': 'Cultivos', 'Unnamed: 23': 'Mes', 'Unnamed: 24': 'Definitivo (2018)', 'Unnamed: 25':'Provisional(2019)','Unnamed: 26':'Avance(2020)','Unnamed: 27': 'Porcentaje % respecto 2019'},inplace=True)\n",
    "df_hectareas_m2020.rename(columns = {'Unnamed: 14': 'Cultivos', 'Unnamed: 17': 'Mes', 'Unnamed: 18': 'Definitivo (2018)', 'Unnamed: 19':'Provisional(2019)','Unnamed: 20':'Avance(2020)','Unnamed: 21': 'Porcentaje % respecto 2019'},inplace=True)"
   ]
  },
  {
   "cell_type": "code",
   "execution_count": 42,
   "metadata": {},
   "outputs": [],
   "source": [
    "# Se unen las dos mitades para generar el dataset final de producción\n",
    "mayo_2020_toneladas = pd.concat([mayo_2020_toneladas, df_toneladas_m2020], axis = 0)\n",
    "mayo_2020_hectareas = pd.concat([mayo_2020_hectareas, df_hectareas_m2020],axis = 0)"
   ]
  },
  {
   "cell_type": "code",
   "execution_count": 43,
   "metadata": {},
   "outputs": [],
   "source": [
    "mayo_2020_toneladas.reset_index(inplace=True)\n",
    "mayo_2020_toneladas.drop(columns = ['index'], inplace =True)\n",
    "mayo_2020_toneladas.drop(mayo_2020_toneladas.index[132:143],inplace=True)\n",
    "mayo_2020_toneladas.dropna(subset = ['Cultivos'],inplace=True)\n",
    "mayo_2020_toneladas = mayo_2020_toneladas[mayo_2020_toneladas['Cultivos'].str[0].str.islower()]"
   ]
  },
  {
   "cell_type": "markdown",
   "metadata": {},
   "source": [
    "## JUNIO 2020"
   ]
  },
  {
   "cell_type": "code",
   "execution_count": 45,
   "metadata": {},
   "outputs": [],
   "source": [
    "junio_2020 = pd.read_csv(\"junio2020.csv\")"
   ]
  },
  {
   "cell_type": "code",
   "execution_count": 46,
   "metadata": {},
   "outputs": [],
   "source": [
    "# Borrar la cabecera y el final del csv\n",
    "junio_2020.drop(junio_2020.index[77:], inplace = True)\n",
    "junio_2020.drop(junio_2020.index[0:2], inplace = True)\n",
    "junio_2020.drop(junio_2020.index[3:5],inplace =True)"
   ]
  },
  {
   "cell_type": "code",
   "execution_count": 47,
   "metadata": {},
   "outputs": [],
   "source": [
    "# Borrar columnas vacías\n",
    "junio_2020.drop(columns= ['Unnamed: 1','Unnamed: 2','Unnamed: 8','Unnamed: 15','Unnamed: 16','Unnamed: 28','Unnamed: 29'],inplace=True)"
   ]
  },
  {
   "cell_type": "code",
   "execution_count": 48,
   "metadata": {},
   "outputs": [],
   "source": [
    "# Se separa el csv en producción por hectáreas y por miles de toneladas\n",
    "junio_2020_hectareas = junio_2020.iloc[:,0:6]\n",
    "junio_2020_hectareas.drop(junio_2020_hectareas.index[0:3],inplace = True)\n",
    "junio_2020_toneladas = junio_2020.iloc[:,[0,6,7,8,9,10]]\n",
    "junio_2020_toneladas.drop(junio_2020_toneladas.index[0:3],inplace = True)"
   ]
  },
  {
   "cell_type": "code",
   "execution_count": 49,
   "metadata": {},
   "outputs": [],
   "source": [
    "# Se cambia el nombre a las columnas del dataset\n",
    "junio_2020_hectareas.rename(columns = {'Unnamed: 0': 'Cultivos', 'Unnamed: 3': 'Mes', 'Unnamed: 4': 'Definitivo (2018)', 'Unnamed: 5':'Provisional(2019)','Unnamed: 6':'Avance(2020)','Unnamed: 7': 'Porcentaje % respecto 2019'},inplace=True)\n",
    "junio_2020_toneladas.rename(columns = {'Unnamed: 0': 'Cultivos', 'Unnamed: 9': 'Mes', 'Unnamed: 10': 'Definitivo (2018)', 'Unnamed: 11':'Provisional(2019)','Unnamed: 12':'Avance(2020)','Unnamed: 13': 'Porcentaje % respecto 2019'},inplace = True)"
   ]
  },
  {
   "cell_type": "code",
   "execution_count": 50,
   "metadata": {},
   "outputs": [],
   "source": [
    "# Se repite el mismo proceso con la otra mitad del dataset\n",
    "df_hectareas_j2020 = junio_2020.iloc[:,11:17]\n",
    "df_toneladas_j2020 = junio_2020.iloc[:,[11,18,19,20,21,22]]\n",
    "df_toneladas_j2020.rename(columns = {'Unnamed: 14': 'Cultivos', 'Unnamed: 23': 'Mes', 'Unnamed: 24': 'Definitivo (2018)', 'Unnamed: 25':'Provisional(2019)','Unnamed: 26':'Avance(2020)','Unnamed: 27': 'Porcentaje % respecto 2019'},inplace=True)\n",
    "df_hectareas_j2020.rename(columns = {'Unnamed: 14': 'Cultivos', 'Unnamed: 17': 'Mes', 'Unnamed: 18': 'Definitivo (2018)', 'Unnamed: 19':'Provisional(2019)','Unnamed: 20':'Avance(2020)','Unnamed: 21': 'Porcentaje % respecto 2019'},inplace=True)"
   ]
  },
  {
   "cell_type": "code",
   "execution_count": 51,
   "metadata": {},
   "outputs": [],
   "source": [
    "# Se unen las dos mitades para generar el dataset final de producción\n",
    "junio_2020_toneladas = pd.concat([junio_2020_toneladas, df_toneladas_j2020], axis = 0)\n",
    "junio_2020_hectareas = pd.concat([junio_2020_hectareas, df_hectareas_j2020],axis = 0)"
   ]
  },
  {
   "cell_type": "code",
   "execution_count": 52,
   "metadata": {},
   "outputs": [],
   "source": [
    "junio_2020_toneladas.reset_index(inplace=True)\n",
    "junio_2020_toneladas.drop(columns = ['index'], inplace =True)\n",
    "junio_2020_toneladas.drop(junio_2020_toneladas.index[132:143],inplace=True)\n",
    "junio_2020_toneladas.dropna(subset = ['Cultivos'],inplace=True)\n",
    "junio_2020_toneladas = junio_2020_toneladas[junio_2020_toneladas['Cultivos'].str[0].str.islower()]"
   ]
  },
  {
   "cell_type": "markdown",
   "metadata": {},
   "source": [
    "## JULIO 2020"
   ]
  },
  {
   "cell_type": "code",
   "execution_count": 54,
   "metadata": {},
   "outputs": [],
   "source": [
    "julio_2020 = pd.read_csv(\"julio2020.csv\")"
   ]
  },
  {
   "cell_type": "code",
   "execution_count": 55,
   "metadata": {},
   "outputs": [],
   "source": [
    "# Borrar la cabecera y el final del csv\n",
    "julio_2020.drop(julio_2020.index[77:], inplace = True)\n",
    "julio_2020.drop(julio_2020.index[0:2], inplace = True)\n",
    "julio_2020.drop(julio_2020.index[3:5],inplace =True)"
   ]
  },
  {
   "cell_type": "code",
   "execution_count": 56,
   "metadata": {},
   "outputs": [],
   "source": [
    "# Borrar columnas vacías\n",
    "julio_2020.drop(columns= ['Unnamed: 1','Unnamed: 2','Unnamed: 8','Unnamed: 15','Unnamed: 16','Unnamed: 28','Unnamed: 29'],inplace=True)"
   ]
  },
  {
   "cell_type": "code",
   "execution_count": 57,
   "metadata": {},
   "outputs": [],
   "source": [
    "# Se separa el csv en producción por hectáreas y por miles de toneladas\n",
    "julio_2020_hectareas = julio_2020.iloc[:,0:6]\n",
    "julio_2020_hectareas.drop(julio_2020_hectareas.index[0:3],inplace = True)\n",
    "julio_2020_toneladas = julio_2020.iloc[:,[0,6,7,8,9,10]]\n",
    "julio_2020_toneladas.drop(julio_2020_toneladas.index[0:3],inplace = True)"
   ]
  },
  {
   "cell_type": "code",
   "execution_count": 58,
   "metadata": {},
   "outputs": [],
   "source": [
    "# Se cambia el nombre a las columnas del dataset\n",
    "julio_2020_hectareas.rename(columns = {'Unnamed: 0': 'Cultivos', 'Unnamed: 3': 'Mes', 'Unnamed: 4': 'Definitivo (2018)', 'Unnamed: 5':'Provisional(2019)','Unnamed: 6':'Avance(2020)','Unnamed: 7': 'Porcentaje % respecto 2019'},inplace=True)\n",
    "julio_2020_toneladas.rename(columns = {'Unnamed: 0': 'Cultivos', 'Unnamed: 9': 'Mes', 'Unnamed: 10': 'Definitivo (2018)', 'Unnamed: 11':'Provisional(2019)','Unnamed: 12':'Avance(2020)','Unnamed: 13': 'Porcentaje % respecto 2019'},inplace = True)"
   ]
  },
  {
   "cell_type": "code",
   "execution_count": 59,
   "metadata": {},
   "outputs": [],
   "source": [
    "# Se repite el mismo proceso con la otra mitad del dataset\n",
    "df_hectareas_jl2020 = julio_2020.iloc[:,11:17]\n",
    "df_toneladas_jl2020 = julio_2020.iloc[:,[11,18,19,20,21,22]]\n",
    "df_toneladas_jl2020.rename(columns = {'Unnamed: 14': 'Cultivos', 'Unnamed: 23': 'Mes', 'Unnamed: 24': 'Definitivo (2018)', 'Unnamed: 25':'Provisional(2019)','Unnamed: 26':'Avance(2020)','Unnamed: 27': 'Porcentaje % respecto 2019'},inplace=True)\n",
    "df_hectareas_jl2020.rename(columns = {'Unnamed: 14': 'Cultivos', 'Unnamed: 17': 'Mes', 'Unnamed: 18': 'Definitivo (2018)', 'Unnamed: 19':'Provisional(2019)','Unnamed: 20':'Avance(2020)','Unnamed: 21': 'Porcentaje % respecto 2019'},inplace=True)"
   ]
  },
  {
   "cell_type": "code",
   "execution_count": 60,
   "metadata": {},
   "outputs": [],
   "source": [
    "# Se unen las dos mitades para generar el dataset final de producción\n",
    "julio_2020_toneladas = pd.concat([julio_2020_toneladas, df_toneladas_jl2020], axis = 0)\n",
    "julio_2020_hectareas = pd.concat([julio_2020_hectareas, df_hectareas_jl2020],axis = 0)"
   ]
  },
  {
   "cell_type": "code",
   "execution_count": 61,
   "metadata": {},
   "outputs": [],
   "source": [
    "julio_2020_toneladas.reset_index(inplace=True)\n",
    "julio_2020_toneladas.drop(columns = ['index'], inplace =True)\n",
    "julio_2020_toneladas.drop(julio_2020_toneladas.index[132:143],inplace=True)\n",
    "julio_2020_toneladas.dropna(subset = ['Cultivos'],inplace=True)\n",
    "julio_2020_toneladas = julio_2020_toneladas[julio_2020_toneladas['Cultivos'].str[0].str.islower()]"
   ]
  },
  {
   "cell_type": "markdown",
   "metadata": {},
   "source": [
    "## AGOSTO 2020"
   ]
  },
  {
   "cell_type": "code",
   "execution_count": 62,
   "metadata": {},
   "outputs": [],
   "source": [
    "agosto_2020 = pd.read_csv(\"agosto2020.csv\")"
   ]
  },
  {
   "cell_type": "code",
   "execution_count": 63,
   "metadata": {},
   "outputs": [],
   "source": [
    "# Borrar la cabecera y el final del csv\n",
    "agosto_2020.drop(agosto_2020.index[77:], inplace = True)\n",
    "agosto_2020.drop(agosto_2020.index[0:2], inplace = True)\n",
    "agosto_2020.drop(agosto_2020.index[3:5],inplace =True)"
   ]
  },
  {
   "cell_type": "code",
   "execution_count": 64,
   "metadata": {},
   "outputs": [],
   "source": [
    "# Borrar columnas vacías\n",
    "agosto_2020.drop(columns= ['Unnamed: 1','Unnamed: 2','Unnamed: 8','Unnamed: 15','Unnamed: 16','Unnamed: 28','Unnamed: 29'],inplace=True)"
   ]
  },
  {
   "cell_type": "code",
   "execution_count": 65,
   "metadata": {},
   "outputs": [],
   "source": [
    "# Se separa el csv en producción por hectáreas y por miles de toneladas\n",
    "agosto_2020_hectareas = agosto_2020.iloc[:,0:6]\n",
    "agosto_2020_hectareas.drop(agosto_2020_hectareas.index[0:3],inplace = True)\n",
    "agosto_2020_toneladas = agosto_2020.iloc[:,[0,6,7,8,9,10]]\n",
    "agosto_2020_toneladas.drop(agosto_2020_toneladas.index[0:3],inplace = True)"
   ]
  },
  {
   "cell_type": "code",
   "execution_count": 66,
   "metadata": {},
   "outputs": [],
   "source": [
    "# Se cambia el nombre a las columnas del dataset\n",
    "agosto_2020_hectareas.rename(columns = {'Unnamed: 0': 'Cultivos', 'Unnamed: 3': 'Mes', 'Unnamed: 4': 'Definitivo (2018)', 'Unnamed: 5':'Provisional(2019)','Unnamed: 6':'Avance(2020)','Unnamed: 7': 'Porcentaje % respecto 2019'},inplace=True)\n",
    "agosto_2020_toneladas.rename(columns = {'Unnamed: 0': 'Cultivos', 'Unnamed: 9': 'Mes', 'Unnamed: 10': 'Definitivo (2018)', 'Unnamed: 11':'Provisional(2019)','Unnamed: 12':'Avance(2020)','Unnamed: 13': 'Porcentaje % respecto 2019'},inplace = True)"
   ]
  },
  {
   "cell_type": "code",
   "execution_count": 67,
   "metadata": {},
   "outputs": [],
   "source": [
    "# Se repite el mismo proceso con la otra mitad del dataset\n",
    "df_hectareas_ag2020 = agosto_2020.iloc[:,11:17]\n",
    "df_toneladas_ag2020 = agosto_2020.iloc[:,[11,18,19,20,21,22]]\n",
    "df_toneladas_ag2020.rename(columns = {'Unnamed: 14': 'Cultivos', 'Unnamed: 23': 'Mes', 'Unnamed: 24': 'Definitivo (2018)', 'Unnamed: 25':'Provisional(2019)','Unnamed: 26':'Avance(2020)','Unnamed: 27': 'Porcentaje % respecto 2019'},inplace=True)\n",
    "df_hectareas_ag2020.rename(columns = {'Unnamed: 14': 'Cultivos', 'Unnamed: 17': 'Mes', 'Unnamed: 18': 'Definitivo (2018)', 'Unnamed: 19':'Provisional(2019)','Unnamed: 20':'Avance(2020)','Unnamed: 21': 'Porcentaje % respecto 2019'},inplace=True)"
   ]
  },
  {
   "cell_type": "code",
   "execution_count": 68,
   "metadata": {},
   "outputs": [],
   "source": [
    "# Se unen las dos mitades para generar el dataset final de producción\n",
    "agosto_2020_toneladas = pd.concat([agosto_2020_toneladas, df_toneladas_ag2020], axis = 0)\n",
    "agosto_2020_hectareas = pd.concat([agosto_2020_hectareas, df_hectareas_ag2020],axis = 0)"
   ]
  },
  {
   "cell_type": "code",
   "execution_count": 69,
   "metadata": {},
   "outputs": [],
   "source": [
    "agosto_2020_toneladas.reset_index(inplace=True)\n",
    "agosto_2020_toneladas.drop(columns = ['index'], inplace =True)\n",
    "agosto_2020_toneladas.drop(agosto_2020_toneladas.index[132:143],inplace=True)\n",
    "agosto_2020_toneladas.dropna(subset = ['Cultivos'],inplace=True)\n",
    "agosto_2020_toneladas = agosto_2020_toneladas[agosto_2020_toneladas['Cultivos'].str[0].str.islower()]"
   ]
  },
  {
   "cell_type": "markdown",
   "metadata": {},
   "source": [
    "## SEPTIEMBRE 2020"
   ]
  },
  {
   "cell_type": "code",
   "execution_count": 70,
   "metadata": {},
   "outputs": [],
   "source": [
    "septiembre_2020 = pd.read_csv(\"septiembre2020.csv\")"
   ]
  },
  {
   "cell_type": "code",
   "execution_count": 71,
   "metadata": {},
   "outputs": [],
   "source": [
    "# Borrar la cabecera y el final del csv\n",
    "septiembre_2020.drop(septiembre_2020.index[77:], inplace = True)\n",
    "septiembre_2020.drop(septiembre_2020.index[0:2], inplace = True)\n",
    "septiembre_2020.drop(septiembre_2020.index[3:5],inplace =True)"
   ]
  },
  {
   "cell_type": "code",
   "execution_count": 72,
   "metadata": {},
   "outputs": [],
   "source": [
    "# Borrar columnas vacías\n",
    "septiembre_2020.drop(columns= ['Unnamed: 1','Unnamed: 2','Unnamed: 8','Unnamed: 15','Unnamed: 16'],inplace=True)"
   ]
  },
  {
   "cell_type": "code",
   "execution_count": 73,
   "metadata": {},
   "outputs": [],
   "source": [
    "# Se separa el csv en producción por hectáreas y por miles de toneladas\n",
    "septiembre_2020_hectareas = septiembre_2020.iloc[:,0:6]\n",
    "septiembre_2020_hectareas.drop(septiembre_2020_hectareas.index[0:3],inplace = True)\n",
    "septiembre_2020_toneladas = septiembre_2020.iloc[:,[0,6,7,8,9,10]]\n",
    "septiembre_2020_toneladas.drop(septiembre_2020_toneladas.index[0:3],inplace = True)"
   ]
  },
  {
   "cell_type": "code",
   "execution_count": 74,
   "metadata": {},
   "outputs": [],
   "source": [
    "# Se cambia el nombre a las columnas del dataset\n",
    "septiembre_2020_hectareas.rename(columns = {'Unnamed: 0': 'Cultivos', 'Unnamed: 3': 'Mes', 'Unnamed: 4': 'Definitivo (2018)', 'Unnamed: 5':'Provisional(2019)','Unnamed: 6':'Avance(2020)','Unnamed: 7': 'Porcentaje % respecto 2019'},inplace=True)\n",
    "septiembre_2020_toneladas.rename(columns = {'Unnamed: 0': 'Cultivos', 'Unnamed: 9': 'Mes', 'Unnamed: 10': 'Definitivo (2018)', 'Unnamed: 11':'Provisional(2019)','Unnamed: 12':'Avance(2020)','Unnamed: 13': 'Porcentaje % respecto 2019'},inplace = True)"
   ]
  },
  {
   "cell_type": "code",
   "execution_count": 75,
   "metadata": {},
   "outputs": [],
   "source": [
    "# Se repite el mismo proceso con la otra mitad del dataset\n",
    "df_hectareas_s2020 = septiembre_2020.iloc[:,11:17]\n",
    "df_toneladas_s2020 = septiembre_2020.iloc[:,[11,18,19,20,21,22]]\n",
    "df_toneladas_s2020.rename(columns = {'Unnamed: 14': 'Cultivos', 'Unnamed: 23': 'Mes', 'Unnamed: 24': 'Definitivo (2018)', 'Unnamed: 25':'Provisional(2019)','Unnamed: 26':'Avance(2020)','Unnamed: 27': 'Porcentaje % respecto 2019'},inplace=True)\n",
    "df_hectareas_s2020.rename(columns = {'Unnamed: 14': 'Cultivos', 'Unnamed: 17': 'Mes', 'Unnamed: 18': 'Definitivo (2018)', 'Unnamed: 19':'Provisional(2019)','Unnamed: 20':'Avance(2020)','Unnamed: 21': 'Porcentaje % respecto 2019'},inplace=True)"
   ]
  },
  {
   "cell_type": "code",
   "execution_count": 76,
   "metadata": {},
   "outputs": [],
   "source": [
    "# Se unen las dos mitades para generar el dataset final de producción\n",
    "septiembre_2020_toneladas = pd.concat([septiembre_2020_toneladas, df_toneladas_s2020], axis = 0)\n",
    "septiembre_2020_hectareas = pd.concat([septiembre_2020_hectareas, df_hectareas_s2020],axis = 0)"
   ]
  },
  {
   "cell_type": "code",
   "execution_count": 77,
   "metadata": {},
   "outputs": [],
   "source": [
    "septiembre_2020_toneladas.reset_index(inplace=True)\n",
    "septiembre_2020_toneladas.drop(columns = ['index'], inplace =True)\n",
    "septiembre_2020_toneladas.drop(septiembre_2020_toneladas.index[132:143],inplace=True)\n",
    "septiembre_2020_toneladas.dropna(subset = ['Cultivos'],inplace=True)\n",
    "septiembre_2020_toneladas = septiembre_2020_toneladas[septiembre_2020_toneladas['Cultivos'].str[0].str.islower()]"
   ]
  },
  {
   "cell_type": "markdown",
   "metadata": {},
   "source": [
    "## OCTUBRE 2020"
   ]
  },
  {
   "cell_type": "code",
   "execution_count": 78,
   "metadata": {},
   "outputs": [],
   "source": [
    "octubre_2020 = pd.read_csv(\"octubre2020.csv\")"
   ]
  },
  {
   "cell_type": "code",
   "execution_count": 79,
   "metadata": {},
   "outputs": [],
   "source": [
    "# Borrar la cabecera y el final del csv\n",
    "octubre_2020.drop(octubre_2020.index[77:], inplace = True)\n",
    "octubre_2020.drop(octubre_2020.index[0:2], inplace = True)\n",
    "octubre_2020.drop(octubre_2020.index[3:5],inplace =True)"
   ]
  },
  {
   "cell_type": "code",
   "execution_count": 80,
   "metadata": {},
   "outputs": [],
   "source": [
    "# Borrar columnas vacías\n",
    "octubre_2020.drop(columns= ['Unnamed: 1','Unnamed: 2','Unnamed: 8','Unnamed: 15','Unnamed: 16','Unnamed: 28','Unnamed: 29'],inplace=True)"
   ]
  },
  {
   "cell_type": "code",
   "execution_count": 81,
   "metadata": {},
   "outputs": [],
   "source": [
    "# Se separa el csv en producción por hectáreas y por miles de toneladas\n",
    "octubre_2020_hectareas = octubre_2020.iloc[:,0:6]\n",
    "octubre_2020_hectareas.drop(octubre_2020_hectareas.index[0:3],inplace = True)\n",
    "octubre_2020_toneladas = octubre_2020.iloc[:,[0,6,7,8,9,10]]\n",
    "octubre_2020_toneladas.drop(octubre_2020_toneladas.index[0:3],inplace = True)"
   ]
  },
  {
   "cell_type": "code",
   "execution_count": 82,
   "metadata": {},
   "outputs": [],
   "source": [
    "# Se cambia el nombre a las columnas del dataset\n",
    "octubre_2020_hectareas.rename(columns = {'Unnamed: 0': 'Cultivos', 'Unnamed: 3': 'Mes', 'Unnamed: 4': 'Definitivo (2018)', 'Unnamed: 5':'Provisional(2019)','Unnamed: 6':'Avance(2020)','Unnamed: 7': 'Porcentaje % respecto 2019'},inplace=True)\n",
    "octubre_2020_toneladas.rename(columns = {'Unnamed: 0': 'Cultivos', 'Unnamed: 9': 'Mes', 'Unnamed: 10': 'Definitivo (2018)', 'Unnamed: 11':'Provisional(2019)','Unnamed: 12':'Avance(2020)','Unnamed: 13': 'Porcentaje % respecto 2019'},inplace = True)"
   ]
  },
  {
   "cell_type": "code",
   "execution_count": 83,
   "metadata": {},
   "outputs": [],
   "source": [
    "# Se repite el mismo proceso con la otra mitad del dataset\n",
    "df_hectareas_o2020 = octubre_2020.iloc[:,11:17]\n",
    "df_toneladas_o2020 = octubre_2020.iloc[:,[11,18,19,20,21,22]]\n",
    "df_toneladas_o2020.rename(columns = {'Unnamed: 14': 'Cultivos', 'Unnamed: 23': 'Mes', 'Unnamed: 24': 'Definitivo (2018)', 'Unnamed: 25':'Provisional(2019)','Unnamed: 26':'Avance(2020)','Unnamed: 27': 'Porcentaje % respecto 2019'},inplace=True)\n",
    "df_hectareas_o2020.rename(columns = {'Unnamed: 14': 'Cultivos', 'Unnamed: 17': 'Mes', 'Unnamed: 18': 'Definitivo (2018)', 'Unnamed: 19':'Provisional(2019)','Unnamed: 20':'Avance(2020)','Unnamed: 21': 'Porcentaje % respecto 2019'},inplace=True)"
   ]
  },
  {
   "cell_type": "code",
   "execution_count": 84,
   "metadata": {},
   "outputs": [],
   "source": [
    "# Se unen las dos mitades para generar el dataset final de producción\n",
    "octubre_2020_toneladas = pd.concat([octubre_2020_toneladas, df_toneladas_o2020], axis = 0)\n",
    "octubre_2020_hectareas = pd.concat([octubre_2020_hectareas, df_hectareas_o2020],axis = 0)"
   ]
  },
  {
   "cell_type": "code",
   "execution_count": 85,
   "metadata": {},
   "outputs": [],
   "source": [
    "octubre_2020_toneladas.reset_index(inplace=True)\n",
    "octubre_2020_toneladas.drop(columns = ['index'], inplace =True)\n",
    "octubre_2020_toneladas.drop(octubre_2020_toneladas.index[132:143],inplace=True)\n",
    "octubre_2020_toneladas.dropna(subset = ['Cultivos'],inplace=True)\n",
    "octubre_2020_toneladas = octubre_2020_toneladas[octubre_2020_toneladas['Cultivos'].str[0].str.islower()]"
   ]
  },
  {
   "cell_type": "markdown",
   "metadata": {},
   "source": [
    "## NOVIEMBRE 2020"
   ]
  },
  {
   "cell_type": "code",
   "execution_count": 86,
   "metadata": {},
   "outputs": [],
   "source": [
    "noviembre_2020 = pd.read_csv(\"noviembre2020.csv\")"
   ]
  },
  {
   "cell_type": "code",
   "execution_count": 87,
   "metadata": {},
   "outputs": [],
   "source": [
    "# Borrar la cabecera y el final del csv\n",
    "noviembre_2020.drop(noviembre_2020.index[77:], inplace = True)\n",
    "noviembre_2020.drop(noviembre_2020.index[0:2], inplace = True)\n",
    "noviembre_2020.drop(noviembre_2020.index[3:5],inplace =True)"
   ]
  },
  {
   "cell_type": "code",
   "execution_count": 88,
   "metadata": {},
   "outputs": [],
   "source": [
    "# Borrar columnas vacías\n",
    "noviembre_2020.drop(columns= ['Unnamed: 1','Unnamed: 2','Unnamed: 8','Unnamed: 15','Unnamed: 16','Unnamed: 28','Unnamed: 29'],inplace=True)"
   ]
  },
  {
   "cell_type": "code",
   "execution_count": 89,
   "metadata": {},
   "outputs": [],
   "source": [
    "# Se separa el csv en producción por hectáreas y por miles de toneladas\n",
    "noviembre_2020_hectareas = noviembre_2020.iloc[:,0:6]\n",
    "noviembre_2020_hectareas.drop(noviembre_2020_hectareas.index[0:3],inplace = True)\n",
    "noviembre_2020_toneladas = noviembre_2020.iloc[:,[0,6,7,8,9,10]]\n",
    "noviembre_2020_toneladas.drop(noviembre_2020_toneladas.index[0:3],inplace = True)"
   ]
  },
  {
   "cell_type": "code",
   "execution_count": 90,
   "metadata": {},
   "outputs": [],
   "source": [
    "# Se cambia el nombre a las columnas del dataset\n",
    "noviembre_2020_hectareas.rename(columns = {'Unnamed: 0': 'Cultivos', 'Unnamed: 3': 'Mes', 'Unnamed: 4': 'Definitivo (2018)', 'Unnamed: 5':'Provisional(2019)','Unnamed: 6':'Avance(2020)','Unnamed: 7': 'Porcentaje % respecto 2019'},inplace=True)\n",
    "noviembre_2020_toneladas.rename(columns = {'Unnamed: 0': 'Cultivos', 'Unnamed: 9': 'Mes', 'Unnamed: 10': 'Definitivo (2018)', 'Unnamed: 11':'Provisional(2019)','Unnamed: 12':'Avance(2020)','Unnamed: 13': 'Porcentaje % respecto 2019'},inplace = True)"
   ]
  },
  {
   "cell_type": "code",
   "execution_count": 91,
   "metadata": {},
   "outputs": [],
   "source": [
    "# Se repite el mismo proceso con la otra mitad del dataset\n",
    "df_hectareas_n2020 = noviembre_2020.iloc[:,11:17]\n",
    "df_toneladas_n2020 = noviembre_2020.iloc[:,[11,18,19,20,21,22]]\n",
    "df_toneladas_n2020.rename(columns = {'Unnamed: 14': 'Cultivos', 'Unnamed: 23': 'Mes', 'Unnamed: 24': 'Definitivo (2018)', 'Unnamed: 25':'Provisional(2019)','Unnamed: 26':'Avance(2020)','Unnamed: 27': 'Porcentaje % respecto 2019'},inplace=True)\n",
    "df_hectareas_n2020.rename(columns = {'Unnamed: 14': 'Cultivos', 'Unnamed: 17': 'Mes', 'Unnamed: 18': 'Definitivo (2018)', 'Unnamed: 19':'Provisional(2019)','Unnamed: 20':'Avance(2020)','Unnamed: 21': 'Porcentaje % respecto 2019'},inplace=True)"
   ]
  },
  {
   "cell_type": "code",
   "execution_count": 92,
   "metadata": {},
   "outputs": [],
   "source": [
    "# Se unen las dos mitades para generar el dataset final de producción\n",
    "noviembre_2020_toneladas = pd.concat([noviembre_2020_toneladas, df_toneladas_n2020], axis = 0)"
   ]
  },
  {
   "cell_type": "code",
   "execution_count": 93,
   "metadata": {},
   "outputs": [],
   "source": [
    "noviembre_2020_toneladas.reset_index(inplace=True)\n",
    "noviembre_2020_toneladas.drop(columns = ['index'], inplace =True)\n",
    "noviembre_2020_toneladas.drop(noviembre_2020_toneladas.index[132:143],inplace=True)\n",
    "noviembre_2020_toneladas.dropna(subset = ['Cultivos'],inplace=True)\n",
    "noviembre_2020_toneladas = noviembre_2020_toneladas[noviembre_2020_toneladas['Cultivos'].str[0].str.islower()]"
   ]
  },
  {
   "cell_type": "markdown",
   "metadata": {},
   "source": [
    "## DICIEMBRE 2020"
   ]
  },
  {
   "cell_type": "code",
   "execution_count": 95,
   "metadata": {},
   "outputs": [],
   "source": [
    "# Cargar dataset diciembre\n",
    "diciembre_2020 = pd.read_csv(\"diciembre2020.csv\", decimal = ',')"
   ]
  },
  {
   "cell_type": "code",
   "execution_count": 96,
   "metadata": {},
   "outputs": [],
   "source": [
    "# Borrar la cabecera y el final del csv\n",
    "diciembre_2020.drop(diciembre_2020.index[77:], inplace = True)\n",
    "diciembre_2020.drop(diciembre_2020.index[0:2], inplace = True)\n",
    "diciembre_2020.drop(diciembre_2020.index[3:5],inplace =True)"
   ]
  },
  {
   "cell_type": "code",
   "execution_count": 97,
   "metadata": {},
   "outputs": [],
   "source": [
    "# Borrar columnas vacías\n",
    "diciembre_2020.drop(columns= ['Unnamed: 1','Unnamed: 2','Unnamed: 8','Unnamed: 15','Unnamed: 16','Unnamed: 29'],inplace=True)"
   ]
  },
  {
   "cell_type": "code",
   "execution_count": 98,
   "metadata": {},
   "outputs": [],
   "source": [
    "# Se separa el csv en producción por hectáreas y por miles de toneladas\n",
    "diciembre_2020_hectareas = diciembre_2020.iloc[:,0:6]\n",
    "diciembre_2020_hectareas.drop(diciembre_2020_hectareas.index[0:3],inplace = True)\n",
    "diciembre_2020_toneladas = diciembre_2020.iloc[:,[0,6,7,8,9,10]]\n",
    "diciembre_2020_toneladas.drop(diciembre_2020_toneladas.index[0:3],inplace = True)"
   ]
  },
  {
   "cell_type": "code",
   "execution_count": 100,
   "metadata": {},
   "outputs": [],
   "source": [
    "# Se cambia el nombre a las columnas del dataset\n",
    "diciembre_2020_hectareas.rename(columns = {'RESUMEN DE LOS AVANCES DE SUPERFICIES Y PRODUCCIONES AGRÍCOLAS': 'Cultivos', 'Unnamed: 3': 'Mes', 'Unnamed: 4': 'Definitivo (2018)', 'Unnamed: 5':'Provisional(2019)','Unnamed: 6':'Avance(2020)','Unnamed: 7': 'Porcentaje % respecto 2019'},inplace=True)\n",
    "diciembre_2020_toneladas.rename(columns = {'RESUMEN DE LOS AVANCES DE SUPERFICIES Y PRODUCCIONES AGRÍCOLAS': 'Cultivos', 'TOTALES NACIONALES': 'Mes', 'Unnamed: 10': 'Definitivo (2018)', 'Unnamed: 11':'Provisional(2019)','DICIEMBRE 2020':'Avance(2020)','Unnamed: 13': 'Porcentaje % respecto 2019'},inplace = True)"
   ]
  },
  {
   "cell_type": "code",
   "execution_count": 101,
   "metadata": {},
   "outputs": [],
   "source": [
    "# Se repite el mismo proceso con la otra mitad del dataset\n",
    "df_toneladas_d2020 = diciembre_2020.iloc[:,[11,18,19,20,21,22]]\n",
    "df_toneladas_d2020.rename(columns = {'RESUMEN DE LOS AVANCES DE SUPERFICIES Y PRODUCCIONES AGRÍCOLAS.1': 'Cultivos', 'TOTALES NACIONALES.1': 'Mes', 'Unnamed: 24': 'Definitivo (2018)', 'Unnamed: 25':'Provisional(2019)','DICIEMBRE 2020.1':'Avance(2020)','Unnamed: 27': 'Porcentaje % respecto 2019'},inplace=True)"
   ]
  },
  {
   "cell_type": "code",
   "execution_count": 102,
   "metadata": {},
   "outputs": [],
   "source": [
    "# Se unen las dos mitades para generar el dataset final de producción\n",
    "diciembre_2020_toneladas = pd.concat([diciembre_2020_toneladas, df_toneladas_d2020], axis = 0)\n",
    "diciembre_2020_toneladas.drop(diciembre_2020_toneladas.index[-18:],inplace = True)"
   ]
  },
  {
   "cell_type": "code",
   "execution_count": 103,
   "metadata": {},
   "outputs": [],
   "source": [
    "# Se eliminan los nan y se pasan los productos a minúsculas\n",
    "diciembre_2020_toneladas.reset_index(inplace=True)\n",
    "diciembre_2020_toneladas.drop(columns = ['index'], inplace =True)\n",
    "diciembre_2020_toneladas.drop(diciembre_2020_toneladas.index[132:143],inplace=True)\n",
    "diciembre_2020_toneladas.dropna(subset = ['Cultivos'],inplace=True)\n",
    "diciembre_2020_toneladas = diciembre_2020_toneladas[diciembre_2020_toneladas['Cultivos'].str[0].str.islower()]"
   ]
  },
  {
   "cell_type": "code",
   "execution_count": 104,
   "metadata": {},
   "outputs": [],
   "source": [
    "# Cambiar nombre de los productos para que coincida con los de la tabla de consumo\n",
    "diciembre_2020_toneladas['Cultivos'] = diciembre_2020_toneladas['Cultivos'].replace('aguacate','AGUACATE')\n",
    "diciembre_2020_toneladas['Cultivos'] = diciembre_2020_toneladas['Cultivos'].replace('ajo','AJOS')\n",
    "diciembre_2020_toneladas['Cultivos'] = diciembre_2020_toneladas['Cultivos'].replace('albaricoque','ALBARICOQUES')\n",
    "diciembre_2020_toneladas['Cultivos'] = diciembre_2020_toneladas['Cultivos'].replace('alcachofa','ALCACHOFAS')\n",
    "diciembre_2020_toneladas['Cultivos'] = diciembre_2020_toneladas['Cultivos'].replace('berenjena','BERENJENAS')\n",
    "diciembre_2020_toneladas['Cultivos'] = diciembre_2020_toneladas['Cultivos'].replace('brócoli','BROCOLI')\n",
    "diciembre_2020_toneladas['Cultivos'] = diciembre_2020_toneladas['Cultivos'].replace('cebolla total','CEBOLLAS')\n",
    "diciembre_2020_toneladas['Cultivos'] = diciembre_2020_toneladas['Cultivos'].replace('calabacín','CALABACINES')\n",
    "diciembre_2020_toneladas['Cultivos'] = diciembre_2020_toneladas['Cultivos'].replace('cereza y guinda','CEREZAS')\n",
    "diciembre_2020_toneladas['Cultivos'] = diciembre_2020_toneladas['Cultivos'].replace('champiñón (9)','CHAMPIÑONES+O.SETAS')\n",
    "diciembre_2020_toneladas['Cultivos'] = diciembre_2020_toneladas['Cultivos'].replace('ciruela','CIRUELAS')\n",
    "diciembre_2020_toneladas['Cultivos'] = diciembre_2020_toneladas['Cultivos'].replace('col repollo total','COLES')\n",
    "diciembre_2020_toneladas['Cultivos'] = diciembre_2020_toneladas['Cultivos'].replace('espárrago','ESPARRAGOS')\n",
    "diciembre_2020_toneladas['Cultivos'] = diciembre_2020_toneladas['Cultivos'].replace('fresa y fresón','FRESAS/FRESON')\n",
    "diciembre_2020_toneladas['Cultivos'] = diciembre_2020_toneladas['Cultivos'].replace('judías verdes','JUDIAS VERDES')\n",
    "diciembre_2020_toneladas['Cultivos'] = diciembre_2020_toneladas['Cultivos'].replace('limón','LIMONES')\n",
    "diciembre_2020_toneladas['Cultivos'] = diciembre_2020_toneladas['Cultivos'].replace('mandarina total (11)','MANDARINAS')\n",
    "diciembre_2020_toneladas['Cultivos'] = diciembre_2020_toneladas['Cultivos'].replace('kiwi','KIWI')\n",
    "diciembre_2020_toneladas['Cultivos'] = diciembre_2020_toneladas['Cultivos'].replace('manzana total','MANZANAS')\n",
    "diciembre_2020_toneladas['Cultivos'] = diciembre_2020_toneladas['Cultivos'].replace('melocotón (12)','MELOCOTONES')\n",
    "diciembre_2020_toneladas['Cultivos'] = diciembre_2020_toneladas['Cultivos'].replace('naranja dulce','NARANJAS')\n",
    "diciembre_2020_toneladas['Cultivos'] = diciembre_2020_toneladas['Cultivos'].replace('nectarina','NECTARINAS')\n",
    "diciembre_2020_toneladas['Cultivos'] = diciembre_2020_toneladas['Cultivos'].replace('pepino','PEPINOS')\n",
    "diciembre_2020_toneladas['Cultivos'] = diciembre_2020_toneladas['Cultivos'].replace('pera total','PERAS')\n",
    "diciembre_2020_toneladas['Cultivos'] = diciembre_2020_toneladas['Cultivos'].replace('pimiento total (7)','PIMIENTOS')\n",
    "diciembre_2020_toneladas['Cultivos'] = diciembre_2020_toneladas['Cultivos'].replace('plátano','PLATANOS')\n",
    "diciembre_2020_toneladas['Cultivos'] = diciembre_2020_toneladas['Cultivos'].replace('pomelo','POMELO')\n",
    "diciembre_2020_toneladas['Cultivos'] = diciembre_2020_toneladas['Cultivos'].replace('sandía','SANDIA')\n",
    "diciembre_2020_toneladas['Cultivos'] = diciembre_2020_toneladas['Cultivos'].replace('tomate total','TOMATES')\n",
    "diciembre_2020_toneladas['Cultivos'] = diciembre_2020_toneladas['Cultivos'].replace('patata total','TOTAL PATATAS')\n",
    "diciembre_2020_toneladas['Cultivos'] = diciembre_2020_toneladas['Cultivos'].replace('uva de mesa','UVAS')\n",
    "diciembre_2020_toneladas['Cultivos'] = diciembre_2020_toneladas['Cultivos'].replace('zanahoria','ZANAHORIAS')\n",
    "diciembre_2020_toneladas['Cultivos'] = diciembre_2020_toneladas['Cultivos'].replace('lechuga total','LECHUGA/ESC./ENDIVIA')\n",
    "diciembre_2020_toneladas.rename(columns = {'Definitivo (2018)':'Producción 2018 (toneladas)','Provisional(2019)':'Producción 2019 (toneladas)', 'Avance(2020)':'Producción 2020 (toneladas)'}, inplace = True)\n",
    "listafh = ['AGUACATE','AJOS','ALBARICOQUES','ALCACHOFAS','BERENJENAS','BROCOLI','CEBOLLAS','CALABACINES','CEREZAS',\n",
    "           'CHAMPIÑONES+O.SETAS','CIRUELAS','COLES','ESPARRAGOS','FRESAS/FRESON','JUDIAS VERDES','LIMONES','MANDARINAS','KIWI',\n",
    "           'MANZANAS','MELOCOTONES','NARANJAS','NECTARINAS','PEPINOS','PERAS','PIMIENTOS','PLATANOS','POMELO','SANDIA',\n",
    "           'TOMATES','TOTAL PATATAS','UVAS','ZANAHORIAS','LECHUGA/ESC./ENDIVIA']"
   ]
  },
  {
   "cell_type": "code",
   "execution_count": 105,
   "metadata": {},
   "outputs": [],
   "source": [
    "# Se filtran los productos que se van a representar y se pasan a float todas las columnas numéricas (las producciones se pasan a toneladas porque estaban en miles de toneladas)\n",
    "diciembre_2020_toneladas = pd.DataFrame(diciembre_2020_toneladas[diciembre_2020_toneladas['Cultivos'].isin(listafh)])\n",
    "diciembre_2020_toneladas.reset_index(inplace=True, drop = True)\n",
    "diciembre_2020_toneladas.drop(columns = ['Mes'], inplace = True)\n",
    "diciembre_2020_toneladas['Producción 2018 (toneladas)'] = [float(str(i).replace(\",\", \"\")) for i in diciembre_2020_toneladas['Producción 2018 (toneladas)']]\n",
    "diciembre_2020_toneladas['Producción 2019 (toneladas)'] = [float(str(i).replace(\",\", \"\")) for i in diciembre_2020_toneladas['Producción 2019 (toneladas)']]\n",
    "diciembre_2020_toneladas['Producción 2020 (toneladas)'] = [float(str(i).replace(\",\", \"\")) for i in diciembre_2020_toneladas['Producción 2020 (toneladas)']]\n",
    "diciembre_2020_toneladas['Porcentaje % respecto 2019'] = diciembre_2020_toneladas['Porcentaje % respecto 2019'].astype(float)\n",
    "diciembre_2020_toneladas[['Producción 2018 (toneladas)','Producción 2019 (toneladas)','Producción 2020 (toneladas)']] =(diciembre_2020_toneladas[['Producción 2018 (toneladas)','Producción 2019 (toneladas)','Producción 2020 (toneladas)']] * 10**3).apply(np.int64)"
   ]
  },
  {
   "cell_type": "code",
   "execution_count": 106,
   "metadata": {},
   "outputs": [
    {
     "data": {
      "text/html": [
       "<div>\n",
       "<style scoped>\n",
       "    .dataframe tbody tr th:only-of-type {\n",
       "        vertical-align: middle;\n",
       "    }\n",
       "\n",
       "    .dataframe tbody tr th {\n",
       "        vertical-align: top;\n",
       "    }\n",
       "\n",
       "    .dataframe thead th {\n",
       "        text-align: right;\n",
       "    }\n",
       "</style>\n",
       "<table border=\"1\" class=\"dataframe\">\n",
       "  <thead>\n",
       "    <tr style=\"text-align: right;\">\n",
       "      <th></th>\n",
       "      <th>Cultivos</th>\n",
       "      <th>Producción 2018 (toneladas)</th>\n",
       "      <th>Producción 2019 (toneladas)</th>\n",
       "      <th>Producción 2020 (toneladas)</th>\n",
       "      <th>Porcentaje % respecto 2019</th>\n",
       "    </tr>\n",
       "  </thead>\n",
       "  <tbody>\n",
       "    <tr>\n",
       "      <th>0</th>\n",
       "      <td>TOTAL PATATAS</td>\n",
       "      <td>2010900</td>\n",
       "      <td>2259300</td>\n",
       "      <td>2139900</td>\n",
       "      <td>94.7</td>\n",
       "    </tr>\n",
       "    <tr>\n",
       "      <th>1</th>\n",
       "      <td>COLES</td>\n",
       "      <td>153800</td>\n",
       "      <td>164000</td>\n",
       "      <td>202700</td>\n",
       "      <td>123.6</td>\n",
       "    </tr>\n",
       "    <tr>\n",
       "      <th>2</th>\n",
       "      <td>ESPARRAGOS</td>\n",
       "      <td>68400</td>\n",
       "      <td>58600</td>\n",
       "      <td>68700</td>\n",
       "      <td>117.3</td>\n",
       "    </tr>\n",
       "    <tr>\n",
       "      <th>3</th>\n",
       "      <td>LECHUGA/ESC./ENDIVIA</td>\n",
       "      <td>934700</td>\n",
       "      <td>1004700</td>\n",
       "      <td>993400</td>\n",
       "      <td>98.9</td>\n",
       "    </tr>\n",
       "    <tr>\n",
       "      <th>4</th>\n",
       "      <td>SANDIA</td>\n",
       "      <td>1092400</td>\n",
       "      <td>1200100</td>\n",
       "      <td>1244200</td>\n",
       "      <td>103.7</td>\n",
       "    </tr>\n",
       "    <tr>\n",
       "      <th>5</th>\n",
       "      <td>CHAMPIÑONES+O.SETAS</td>\n",
       "      <td>149800</td>\n",
       "      <td>151800</td>\n",
       "      <td>148400</td>\n",
       "      <td>97.8</td>\n",
       "    </tr>\n",
       "    <tr>\n",
       "      <th>6</th>\n",
       "      <td>BROCOLI</td>\n",
       "      <td>543100</td>\n",
       "      <td>531900</td>\n",
       "      <td>567200</td>\n",
       "      <td>106.6</td>\n",
       "    </tr>\n",
       "    <tr>\n",
       "      <th>7</th>\n",
       "      <td>PEPINOS</td>\n",
       "      <td>643600</td>\n",
       "      <td>739200</td>\n",
       "      <td>804200</td>\n",
       "      <td>108.8</td>\n",
       "    </tr>\n",
       "    <tr>\n",
       "      <th>8</th>\n",
       "      <td>BERENJENAS</td>\n",
       "      <td>238300</td>\n",
       "      <td>245100</td>\n",
       "      <td>282000</td>\n",
       "      <td>115.0</td>\n",
       "    </tr>\n",
       "    <tr>\n",
       "      <th>9</th>\n",
       "      <td>CALABACINES</td>\n",
       "      <td>596300</td>\n",
       "      <td>605500</td>\n",
       "      <td>599700</td>\n",
       "      <td>99.0</td>\n",
       "    </tr>\n",
       "    <tr>\n",
       "      <th>10</th>\n",
       "      <td>ZANAHORIAS</td>\n",
       "      <td>382400</td>\n",
       "      <td>384300</td>\n",
       "      <td>407900</td>\n",
       "      <td>106.1</td>\n",
       "    </tr>\n",
       "    <tr>\n",
       "      <th>11</th>\n",
       "      <td>NARANJAS</td>\n",
       "      <td>3930400</td>\n",
       "      <td>3279500</td>\n",
       "      <td>3323100</td>\n",
       "      <td>101.3</td>\n",
       "    </tr>\n",
       "    <tr>\n",
       "      <th>12</th>\n",
       "      <td>LIMONES</td>\n",
       "      <td>1148600</td>\n",
       "      <td>931100</td>\n",
       "      <td>1063000</td>\n",
       "      <td>114.2</td>\n",
       "    </tr>\n",
       "    <tr>\n",
       "      <th>13</th>\n",
       "      <td>POMELO</td>\n",
       "      <td>80600</td>\n",
       "      <td>70600</td>\n",
       "      <td>79700</td>\n",
       "      <td>112.9</td>\n",
       "    </tr>\n",
       "    <tr>\n",
       "      <th>14</th>\n",
       "      <td>MANDARINAS</td>\n",
       "      <td>2385000</td>\n",
       "      <td>1831900</td>\n",
       "      <td>2313400</td>\n",
       "      <td>126.3</td>\n",
       "    </tr>\n",
       "    <tr>\n",
       "      <th>15</th>\n",
       "      <td>MANZANAS</td>\n",
       "      <td>563000</td>\n",
       "      <td>638800</td>\n",
       "      <td>593900</td>\n",
       "      <td>93.0</td>\n",
       "    </tr>\n",
       "    <tr>\n",
       "      <th>16</th>\n",
       "      <td>PERAS</td>\n",
       "      <td>332300</td>\n",
       "      <td>330700</td>\n",
       "      <td>318600</td>\n",
       "      <td>96.3</td>\n",
       "    </tr>\n",
       "    <tr>\n",
       "      <th>17</th>\n",
       "      <td>ALBARICOQUES</td>\n",
       "      <td>176300</td>\n",
       "      <td>145800</td>\n",
       "      <td>130900</td>\n",
       "      <td>89.8</td>\n",
       "    </tr>\n",
       "    <tr>\n",
       "      <th>18</th>\n",
       "      <td>CEREZAS</td>\n",
       "      <td>107000</td>\n",
       "      <td>118800</td>\n",
       "      <td>102300</td>\n",
       "      <td>86.2</td>\n",
       "    </tr>\n",
       "    <tr>\n",
       "      <th>19</th>\n",
       "      <td>MELOCOTONES</td>\n",
       "      <td>903800</td>\n",
       "      <td>937200</td>\n",
       "      <td>793400</td>\n",
       "      <td>84.7</td>\n",
       "    </tr>\n",
       "    <tr>\n",
       "      <th>20</th>\n",
       "      <td>CIRUELAS</td>\n",
       "      <td>153000</td>\n",
       "      <td>179800</td>\n",
       "      <td>158600</td>\n",
       "      <td>88.2</td>\n",
       "    </tr>\n",
       "    <tr>\n",
       "      <th>21</th>\n",
       "      <td>PLATANOS</td>\n",
       "      <td>386200</td>\n",
       "      <td>398700</td>\n",
       "      <td>417200</td>\n",
       "      <td>104.6</td>\n",
       "    </tr>\n",
       "    <tr>\n",
       "      <th>22</th>\n",
       "      <td>KIWI</td>\n",
       "      <td>23800</td>\n",
       "      <td>24500</td>\n",
       "      <td>27400</td>\n",
       "      <td>112.0</td>\n",
       "    </tr>\n",
       "    <tr>\n",
       "      <th>23</th>\n",
       "      <td>AGUACATE</td>\n",
       "      <td>89600</td>\n",
       "      <td>97700</td>\n",
       "      <td>111900</td>\n",
       "      <td>114.5</td>\n",
       "    </tr>\n",
       "    <tr>\n",
       "      <th>24</th>\n",
       "      <td>NECTARINAS</td>\n",
       "      <td>547100</td>\n",
       "      <td>605100</td>\n",
       "      <td>472600</td>\n",
       "      <td>78.1</td>\n",
       "    </tr>\n",
       "    <tr>\n",
       "      <th>25</th>\n",
       "      <td>UVAS</td>\n",
       "      <td>272800</td>\n",
       "      <td>331500</td>\n",
       "      <td>297800</td>\n",
       "      <td>89.8</td>\n",
       "    </tr>\n",
       "  </tbody>\n",
       "</table>\n",
       "</div>"
      ],
      "text/plain": [
       "                Cultivos  Producción 2018 (toneladas)  \\\n",
       "0          TOTAL PATATAS                      2010900   \n",
       "1                  COLES                       153800   \n",
       "2             ESPARRAGOS                        68400   \n",
       "3   LECHUGA/ESC./ENDIVIA                       934700   \n",
       "4                 SANDIA                      1092400   \n",
       "5    CHAMPIÑONES+O.SETAS                       149800   \n",
       "6                BROCOLI                       543100   \n",
       "7                PEPINOS                       643600   \n",
       "8             BERENJENAS                       238300   \n",
       "9            CALABACINES                       596300   \n",
       "10            ZANAHORIAS                       382400   \n",
       "11              NARANJAS                      3930400   \n",
       "12               LIMONES                      1148600   \n",
       "13                POMELO                        80600   \n",
       "14            MANDARINAS                      2385000   \n",
       "15              MANZANAS                       563000   \n",
       "16                 PERAS                       332300   \n",
       "17          ALBARICOQUES                       176300   \n",
       "18               CEREZAS                       107000   \n",
       "19           MELOCOTONES                       903800   \n",
       "20              CIRUELAS                       153000   \n",
       "21              PLATANOS                       386200   \n",
       "22                  KIWI                        23800   \n",
       "23              AGUACATE                        89600   \n",
       "24            NECTARINAS                       547100   \n",
       "25                  UVAS                       272800   \n",
       "\n",
       "    Producción 2019 (toneladas)  Producción 2020 (toneladas)  \\\n",
       "0                       2259300                      2139900   \n",
       "1                        164000                       202700   \n",
       "2                         58600                        68700   \n",
       "3                       1004700                       993400   \n",
       "4                       1200100                      1244200   \n",
       "5                        151800                       148400   \n",
       "6                        531900                       567200   \n",
       "7                        739200                       804200   \n",
       "8                        245100                       282000   \n",
       "9                        605500                       599700   \n",
       "10                       384300                       407900   \n",
       "11                      3279500                      3323100   \n",
       "12                       931100                      1063000   \n",
       "13                        70600                        79700   \n",
       "14                      1831900                      2313400   \n",
       "15                       638800                       593900   \n",
       "16                       330700                       318600   \n",
       "17                       145800                       130900   \n",
       "18                       118800                       102300   \n",
       "19                       937200                       793400   \n",
       "20                       179800                       158600   \n",
       "21                       398700                       417200   \n",
       "22                        24500                        27400   \n",
       "23                        97700                       111900   \n",
       "24                       605100                       472600   \n",
       "25                       331500                       297800   \n",
       "\n",
       "    Porcentaje % respecto 2019  \n",
       "0                         94.7  \n",
       "1                        123.6  \n",
       "2                        117.3  \n",
       "3                         98.9  \n",
       "4                        103.7  \n",
       "5                         97.8  \n",
       "6                        106.6  \n",
       "7                        108.8  \n",
       "8                        115.0  \n",
       "9                         99.0  \n",
       "10                       106.1  \n",
       "11                       101.3  \n",
       "12                       114.2  \n",
       "13                       112.9  \n",
       "14                       126.3  \n",
       "15                        93.0  \n",
       "16                        96.3  \n",
       "17                        89.8  \n",
       "18                        86.2  \n",
       "19                        84.7  \n",
       "20                        88.2  \n",
       "21                       104.6  \n",
       "22                       112.0  \n",
       "23                       114.5  \n",
       "24                        78.1  \n",
       "25                        89.8  "
      ]
     },
     "execution_count": 106,
     "metadata": {},
     "output_type": "execute_result"
    }
   ],
   "source": [
    "diciembre_2020_toneladas"
   ]
  },
  {
   "cell_type": "code",
   "execution_count": 107,
   "metadata": {},
   "outputs": [],
   "source": [
    "# Nos quedamos con los datos al final del 2020 para hacer la suma por producto y poder representar la producción y el consumo\n",
    "#diciembre_2020_toneladas.to_csv(\"Datos_produccion.csv\", encoding = 'utf-8-sig')"
   ]
  }
 ],
 "metadata": {
  "kernelspec": {
   "display_name": "Python 3",
   "language": "python",
   "name": "python3"
  },
  "language_info": {
   "codemirror_mode": {
    "name": "ipython",
    "version": 3
   },
   "file_extension": ".py",
   "mimetype": "text/x-python",
   "name": "python",
   "nbconvert_exporter": "python",
   "pygments_lexer": "ipython3",
   "version": "3.8.5"
  }
 },
 "nbformat": 4,
 "nbformat_minor": 4
}
