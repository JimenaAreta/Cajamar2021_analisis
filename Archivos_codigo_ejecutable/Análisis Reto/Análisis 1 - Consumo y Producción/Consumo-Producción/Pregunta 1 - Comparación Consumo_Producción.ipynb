{
 "cells": [
  {
   "cell_type": "markdown",
   "metadata": {},
   "source": [
    "## PARTE 2 - ¿De qué manera se ha visto afectado el consumo y la producción de F&H durante la pandemia con respecto a años anteriores?"
   ]
  },
  {
   "cell_type": "markdown",
   "metadata": {},
   "source": [
    "Los datos tanto de consumo como de producción se han obtenido del MAPA en los enlaces que se aportan a continuación. La obtención de todos los datos de consumo desde el año 2013 al 2020 se ha realizado mediante scrapping con Selenium. Solo se contaba con datos anuales de producción, por lo que el análisis sera anual para 2018-2019-2020"
   ]
  },
  {
   "cell_type": "markdown",
   "metadata": {},
   "source": [
    "Fuente de los datos: \n",
    "- Datos consumo : https://www.mapa.gob.es/app/consumo-en-hogares/consulta11.asp\n",
    "- Datos producción : https://www.mapa.gob.es/es/estadistica/temas/estadisticas-agrarias/agricultura/avances-superficies-producciones-agricolas/"
   ]
  },
  {
   "cell_type": "code",
   "execution_count": 1,
   "metadata": {},
   "outputs": [],
   "source": [
    "# Se cargan las liberías\n",
    "import pandas as pd\n",
    "import numpy as np\n",
    "pd.options.mode.chained_assignment = None  # default='warn'"
   ]
  },
  {
   "cell_type": "code",
   "execution_count": 2,
   "metadata": {},
   "outputs": [],
   "source": [
    "# Se cargan los dos datasets (producción y consumo)\n",
    "df_produccion = pd.read_csv(\"Datos_produccion.csv\", encoding = 'utf-8-sig')\n",
    "df_consumo = pd.read_csv(\"consumoF&H_Limpio_2.csv\", encoding = 'utf-8-sig')"
   ]
  },
  {
   "cell_type": "code",
   "execution_count": 3,
   "metadata": {},
   "outputs": [],
   "source": [
    "# Se filtra el consumo nacional para compararlo con la producción nacional\n",
    "df_consumo = df_consumo[df_consumo['CCAA'] == 'Total Nacional']"
   ]
  },
  {
   "cell_type": "code",
   "execution_count": 4,
   "metadata": {},
   "outputs": [
    {
     "name": "stderr",
     "output_type": "stream",
     "text": [
      "<ipython-input-4-c19235d6fc84>:2: FutureWarning: Indexing with multiple keys (implicitly converted to a tuple of keys) will be deprecated, use a list instead.\n",
      "  value2018 = df_consumo.groupby(['Año','Producto','CCAA'], as_index = False)['Volumen (miles de kg)','Valor (miles de €)'].agg('mean')\n"
     ]
    }
   ],
   "source": [
    "# Calcular el valor medio de todos los meses para 2018 y 2019 y rellenar con ese dato Diciembre (mes faltante)\n",
    "value2018 = df_consumo.groupby(['Año','Producto','CCAA'], as_index = False)['Volumen (miles de kg)','Valor (miles de €)'].agg('mean')\n",
    "value2018['Mes'] = 12\n",
    "value2018['Fecha'] =  pd.to_datetime(value2018['Año'].map(str) + '-' + value2018['Mes'].map(str)).dt.strftime('%m-%Y')\n",
    "value2018 = value2018[value2018['Año'] != 2020]\n",
    "# Se añade al dataset de consumo\n",
    "df_consumo = pd.concat([df_consumo, value2018], axis= 0)\n",
    "df_consumo[df_consumo['Fecha'] == '11-2020']\n",
    "# Se aáde el mes de diciembre también a los productos que tienen datos hasta noviemb\n",
    "value_2020 = df_consumo[df_consumo['Fecha'] == '11-2020'].copy()\n",
    "value_2020['Mes'] = 12\n",
    "value_2020['Fecha'] = '12-2020'\n",
    "df_consumo = pd.concat([df_consumo, value_2020], axis= 0)"
   ]
  },
  {
   "cell_type": "code",
   "execution_count": 5,
   "metadata": {},
   "outputs": [],
   "source": [
    "# Se saca una lista de todos los productos que tienen datos hasta noviembre\n",
    "alimentos = value_2020['Producto'].tolist()"
   ]
  },
  {
   "cell_type": "code",
   "execution_count": 6,
   "metadata": {},
   "outputs": [],
   "source": [
    "# Se construte un dataframe con los productos que no están en esa lista y como solo hay datos hasta junio se completa cogiendo los datos hasta diciembre del 2019\n",
    "df_2020 = df_consumo[~df_consumo['Producto'].isin(alimentos)]\n",
    "fechas = ['07-2019','08-2019','09-2019','10-2019','11-2019','12-2019']\n",
    "df_2020 = df_2020[df_2020['Fecha'].isin(fechas)]\n",
    "values2020mj = df_2020.copy()\n",
    "values2020mj['Año'] = 2020\n",
    "values2020mj['Fecha'] = pd.to_datetime(values2020mj['Año'].map(str) + '-' + values2020mj['Mes'].map(str)).dt.strftime('%m-%Y')\n",
    "df_consumo = pd.concat([df_consumo, values2020mj], axis= 0)"
   ]
  },
  {
   "cell_type": "code",
   "execution_count": 7,
   "metadata": {},
   "outputs": [],
   "source": [
    "value2018['Mes'] = 12\n",
    "value2018['Fecha'] =  pd.to_datetime(value2018['Año'].map(str) + '-' + value2018['Mes'].map(str)).dt.strftime('%m-%Y')\n",
    "value2018 = value2018[value2018['Año'] != 2020]\n",
    "df_consumo = pd.concat([df_consumo, value2018], axis= 0)"
   ]
  },
  {
   "cell_type": "code",
   "execution_count": 8,
   "metadata": {},
   "outputs": [],
   "source": [
    "# Se ordenan los datos por año y mes\n",
    "df_consumo.sort_values(by = ['Año','Mes'], inplace = True)"
   ]
  },
  {
   "cell_type": "code",
   "execution_count": 9,
   "metadata": {},
   "outputs": [],
   "source": [
    "# Se crea el dataset df_final para calcular el consumo total por producto y año y poder compararlo con la producción total\n",
    "df_consumofinal = pd.DataFrame(df_consumo.groupby(['Año','Producto'], as_index = False)[['Volumen (miles de kg)','Valor (miles de €)']].sum())"
   ]
  },
  {
   "cell_type": "code",
   "execution_count": 10,
   "metadata": {},
   "outputs": [],
   "source": [
    "# Se renombran las columnas del dataset de producción para quitar el año \n",
    "df_produccion2018 = df_produccion[['Cultivos','Producción 2018 (toneladas)']].rename(columns={'Producción 2018 (toneladas)':'Producción(toneladas)'})\n",
    "df_produccion2019 = df_produccion[['Cultivos','Producción 2019 (toneladas)']].rename(columns={'Producción 2019 (toneladas)':'Producción(toneladas)'})\n",
    "df_produccion2020 = df_produccion[['Cultivos','Producción 2020 (toneladas)']].rename(columns={'Producción 2020 (toneladas)':'Producción(toneladas)'})"
   ]
  },
  {
   "cell_type": "code",
   "execution_count": 11,
   "metadata": {},
   "outputs": [],
   "source": [
    "# Se parte el dataset de producción por años para que tenga el mismo formato que el dataset de consumo\n",
    "df_produccion2018['Año'] = 2018\n",
    "df_produccion2019['Año'] = 2019\n",
    "df_produccion2020['Año'] = 2020"
   ]
  },
  {
   "cell_type": "code",
   "execution_count": 12,
   "metadata": {},
   "outputs": [],
   "source": [
    "# Se concatenan los 3 datasets de forma que en el mismo está la producción por producto y año\n",
    "df_produccion = pd.concat([df_produccion2018,df_produccion2019,df_produccion2020],axis = 0)"
   ]
  },
  {
   "cell_type": "code",
   "execution_count": 13,
   "metadata": {},
   "outputs": [],
   "source": [
    "# Se unifican los datasets de producción y consumo por el campo producto y año\n",
    "#pd.set_option('display.float_format', lambda x: '%.3f' % x)\n",
    "df_cons_prod = df_consumofinal.merge(df_produccion, left_on=['Producto','Año'], right_on=['Cultivos','Año'], how='inner')\n",
    "df_cons_prod.drop(columns = 'Cultivos', inplace=True)\n",
    "df_cons_prod.rename(columns = {'Volumen (miles de kg)' : 'Volumen(toneladas)'}, inplace = True)\n",
    "df_cons_prod[['Volumen(toneladas)','Valor (miles de €)']] = df_cons_prod[['Volumen(toneladas)','Valor (miles de €)']].apply(np.int64)"
   ]
  },
  {
   "cell_type": "code",
   "execution_count": 14,
   "metadata": {},
   "outputs": [
    {
     "data": {
      "text/html": [
       "<div>\n",
       "<style scoped>\n",
       "    .dataframe tbody tr th:only-of-type {\n",
       "        vertical-align: middle;\n",
       "    }\n",
       "\n",
       "    .dataframe tbody tr th {\n",
       "        vertical-align: top;\n",
       "    }\n",
       "\n",
       "    .dataframe thead th {\n",
       "        text-align: right;\n",
       "    }\n",
       "</style>\n",
       "<table border=\"1\" class=\"dataframe\">\n",
       "  <thead>\n",
       "    <tr style=\"text-align: right;\">\n",
       "      <th></th>\n",
       "      <th>Año</th>\n",
       "      <th>Producto</th>\n",
       "      <th>Volumen(toneladas)</th>\n",
       "      <th>Valor (miles de €)</th>\n",
       "      <th>Producción(toneladas)</th>\n",
       "    </tr>\n",
       "  </thead>\n",
       "  <tbody>\n",
       "    <tr>\n",
       "      <th>0</th>\n",
       "      <td>2018</td>\n",
       "      <td>AGUACATE</td>\n",
       "      <td>59217</td>\n",
       "      <td>201301</td>\n",
       "      <td>89600</td>\n",
       "    </tr>\n",
       "    <tr>\n",
       "      <th>1</th>\n",
       "      <td>2018</td>\n",
       "      <td>AJOS</td>\n",
       "      <td>39614</td>\n",
       "      <td>154406</td>\n",
       "      <td>273500</td>\n",
       "    </tr>\n",
       "    <tr>\n",
       "      <th>2</th>\n",
       "      <td>2018</td>\n",
       "      <td>ALBARICOQUES</td>\n",
       "      <td>48628</td>\n",
       "      <td>96658</td>\n",
       "      <td>176300</td>\n",
       "    </tr>\n",
       "    <tr>\n",
       "      <th>3</th>\n",
       "      <td>2018</td>\n",
       "      <td>ALCACHOFAS</td>\n",
       "      <td>70360</td>\n",
       "      <td>113595</td>\n",
       "      <td>195600</td>\n",
       "    </tr>\n",
       "    <tr>\n",
       "      <th>4</th>\n",
       "      <td>2018</td>\n",
       "      <td>BERENJENAS</td>\n",
       "      <td>80471</td>\n",
       "      <td>119022</td>\n",
       "      <td>238300</td>\n",
       "    </tr>\n",
       "    <tr>\n",
       "      <th>...</th>\n",
       "      <td>...</td>\n",
       "      <td>...</td>\n",
       "      <td>...</td>\n",
       "      <td>...</td>\n",
       "      <td>...</td>\n",
       "    </tr>\n",
       "    <tr>\n",
       "      <th>94</th>\n",
       "      <td>2020</td>\n",
       "      <td>SANDIA</td>\n",
       "      <td>437694</td>\n",
       "      <td>388629</td>\n",
       "      <td>1244200</td>\n",
       "    </tr>\n",
       "    <tr>\n",
       "      <th>95</th>\n",
       "      <td>2020</td>\n",
       "      <td>TOMATES</td>\n",
       "      <td>682010</td>\n",
       "      <td>1192852</td>\n",
       "      <td>4238400</td>\n",
       "    </tr>\n",
       "    <tr>\n",
       "      <th>96</th>\n",
       "      <td>2020</td>\n",
       "      <td>TOTAL PATATAS</td>\n",
       "      <td>1407039</td>\n",
       "      <td>1367097</td>\n",
       "      <td>2139900</td>\n",
       "    </tr>\n",
       "    <tr>\n",
       "      <th>97</th>\n",
       "      <td>2020</td>\n",
       "      <td>UVAS</td>\n",
       "      <td>111434</td>\n",
       "      <td>311385</td>\n",
       "      <td>297800</td>\n",
       "    </tr>\n",
       "    <tr>\n",
       "      <th>98</th>\n",
       "      <td>2020</td>\n",
       "      <td>ZANAHORIAS</td>\n",
       "      <td>178878</td>\n",
       "      <td>169768</td>\n",
       "      <td>407900</td>\n",
       "    </tr>\n",
       "  </tbody>\n",
       "</table>\n",
       "<p>99 rows × 5 columns</p>\n",
       "</div>"
      ],
      "text/plain": [
       "     Año       Producto  Volumen(toneladas)  Valor (miles de €)  \\\n",
       "0   2018       AGUACATE               59217              201301   \n",
       "1   2018           AJOS               39614              154406   \n",
       "2   2018   ALBARICOQUES               48628               96658   \n",
       "3   2018     ALCACHOFAS               70360              113595   \n",
       "4   2018     BERENJENAS               80471              119022   \n",
       "..   ...            ...                 ...                 ...   \n",
       "94  2020         SANDIA              437694              388629   \n",
       "95  2020        TOMATES              682010             1192852   \n",
       "96  2020  TOTAL PATATAS             1407039             1367097   \n",
       "97  2020           UVAS              111434              311385   \n",
       "98  2020     ZANAHORIAS              178878              169768   \n",
       "\n",
       "    Producción(toneladas)  \n",
       "0                   89600  \n",
       "1                  273500  \n",
       "2                  176300  \n",
       "3                  195600  \n",
       "4                  238300  \n",
       "..                    ...  \n",
       "94                1244200  \n",
       "95                4238400  \n",
       "96                2139900  \n",
       "97                 297800  \n",
       "98                 407900  \n",
       "\n",
       "[99 rows x 5 columns]"
      ]
     },
     "execution_count": 14,
     "metadata": {},
     "output_type": "execute_result"
    }
   ],
   "source": [
    "# Dataset consumo (en toneladas y en miles de euros) y producción (toneladas)\n",
    "df_cons_prod"
   ]
  },
  {
   "cell_type": "code",
   "execution_count": 15,
   "metadata": {},
   "outputs": [],
   "source": [
    "# Se guardan el dataset de consumo y producción\n",
    "# df_cons_prod.to_csv(\"Consumo_Producción.csv\", encoding= \"utf-8-sig\")"
   ]
  },
  {
   "cell_type": "markdown",
   "metadata": {},
   "source": [
    "### REPRESENTACIÓN DEL CONSUMO Y LA PRODUCCIÓN"
   ]
  },
  {
   "cell_type": "markdown",
   "metadata": {},
   "source": [
    "A continuación, se representa el consumo y la producción por cada año y producto de forma que se puedan extraer conclusiones de la relación existente entre ambas variables."
   ]
  },
  {
   "cell_type": "code",
   "execution_count": 16,
   "metadata": {},
   "outputs": [
    {
     "data": {
      "text/html": [
       "\n",
       "        <iframe\n",
       "            width=\"1000\"\n",
       "            height=\"550\"\n",
       "            src=\"https://app.powerbi.com/view?r=eyJrIjoiZGVkNDBhMzUtYTU4YS00MWVkLWEwNjYtYzRlY2ZiMTVmODhhIiwidCI6IjZhZmVhODVkLWMzMjMtNDI3MC1iNjlkLWE0ZmIzOTI3YzI1NCIsImMiOjl9\"\n",
       "            frameborder=\"0\"\n",
       "            allowfullscreen\n",
       "        ></iframe>\n",
       "        "
      ],
      "text/plain": [
       "<IPython.lib.display.IFrame at 0x164ff3f3f40>"
      ]
     },
     "execution_count": 16,
     "metadata": {},
     "output_type": "execute_result"
    }
   ],
   "source": [
    "from IPython.display import IFrame\n",
    "IFrame(\"https://app.powerbi.com/view?r=eyJrIjoiZGVkNDBhMzUtYTU4YS00MWVkLWEwNjYtYzRlY2ZiMTVmODhhIiwidCI6IjZhZmVhODVkLWMzMjMtNDI3MC1iNjlkLWE0ZmIzOTI3YzI1NCIsImMiOjl9\",height = 550, width = 1000) "
   ]
  },
  {
   "cell_type": "markdown",
   "metadata": {},
   "source": [
    "*En el reporte se observa por un lado la evolución en los últimos 3 años de la producción y el consumo por producto (frutas y hortalizas). En la parte de abajo se representan 3 gráficos en % del consumo anual (tanto en toneladas como en miles de €) y la producción para poder evaluar su evolución en los últimos 3 años.*"
   ]
  },
  {
   "cell_type": "markdown",
   "metadata": {},
   "source": [
    "Para visualizar el análisis detallado, acudir a: https://datacrop.es/reto-analisis-1/"
   ]
  }
 ],
 "metadata": {
  "kernelspec": {
   "display_name": "Python 3",
   "language": "python",
   "name": "python3"
  },
  "language_info": {
   "codemirror_mode": {
    "name": "ipython",
    "version": 3
   },
   "file_extension": ".py",
   "mimetype": "text/x-python",
   "name": "python",
   "nbconvert_exporter": "python",
   "pygments_lexer": "ipython3",
   "version": "3.8.5"
  }
 },
 "nbformat": 4,
 "nbformat_minor": 4
}
